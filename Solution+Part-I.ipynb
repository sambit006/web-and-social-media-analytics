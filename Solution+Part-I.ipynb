{
 "cells": [
  {
   "cell_type": "code",
   "execution_count": null,
   "metadata": {
    "colab": {
     "base_uri": "https://localhost:8080/"
    },
    "id": "unJD3R6P4c_R",
    "outputId": "0adcf436-903a-4245-9ccc-1894eee05389"
   },
   "outputs": [],
   "source": [
    "from google.colab import drive\n",
    "drive.mount('/content/drive')"
   ]
  },
  {
   "cell_type": "code",
   "execution_count": null,
   "metadata": {
    "id": "kHkrvf5V_GJ_"
   },
   "outputs": [],
   "source": [
    "import pandas as pd\n",
    "import numpy as np"
   ]
  },
  {
   "cell_type": "markdown",
   "metadata": {
    "id": "VRXmVYBOLdn2"
   },
   "source": [
    "### The following data sets are available\n",
    "1.   meta data of type .json\n",
    "2.   phone data of type .csv\n",
    "\n",
    "The meta data holds information from sellers point of view and the phone data holds user information. \n",
    "We begin by unzipping the meta data file and extracting its content to a list\n",
    "\n"
   ]
  },
  {
   "cell_type": "markdown",
   "metadata": {
    "id": "ET15XVQDM0L4"
   },
   "source": [
    "# Reading the  data\n",
    "\n"
   ]
  },
  {
   "cell_type": "code",
   "execution_count": null,
   "metadata": {
    "id": "nkUb-G5Q7LqS"
   },
   "outputs": [],
   "source": [
    "# Reading the meta data\n",
    "# importing libraries\n",
    "\n",
    "import gzip\n",
    "import shutil\n",
    "\n",
    "#Path to the meta data zip file. 'sentiment_analysis' is the folder name under 'My Drive'\n",
    "path1 = '/content/drive/My Drive/sentiment_analysis/meta_Cell_Phones_and_Accessories.json.gz'\n",
    "\n",
    "# Path to meta data .json file\n",
    "path2 = '/content/drive/My Drive/sentiment_analysis/meta_Cell_Phones_and_Accessories.json'\n",
    "\n",
    "# Unzipping the meta data file\n",
    "with gzip.open(path1, 'rb') as f_in:\n",
    "    with open(path2, 'wb') as f_out:\n",
    "        shutil.copyfileobj(f_in, f_out)"
   ]
  },
  {
   "cell_type": "code",
   "execution_count": null,
   "metadata": {
    "id": "FtnsAi2v7TpI"
   },
   "outputs": [],
   "source": [
    "# Reading the unzipped meta data into a Python list. The result will be a list of dictionaries. \n",
    "import json\n",
    "\n",
    "# Empty list to store the dictonaries\n",
    "phonemetadata = []\n",
    "\n",
    "# Reading the dictionaries in the json file and appending it to the list phonemetadata[]\n",
    "with open(path2, 'r') as f:\n",
    "    for line in f:\n",
    "        phonemetadata.append(json.loads(line))"
   ]
  },
  {
   "cell_type": "code",
   "execution_count": null,
   "metadata": {
    "colab": {
     "base_uri": "https://localhost:8080/"
    },
    "id": "i7K99Fg0kozW",
    "outputId": "3b37a40a-efdb-4c25-bf91-c9bfb08a3100"
   },
   "outputs": [],
   "source": [
    "# Getting the number of entries in the phonemetadata list\n",
    "len(phonemetadata)"
   ]
  },
  {
   "cell_type": "code",
   "execution_count": null,
   "metadata": {
    "id": "uokikHfJOZBi"
   },
   "outputs": [],
   "source": [
    "#converting the list phonemetadata into a data frame\n",
    "df_meta=pd.DataFrame(phonemetadata)"
   ]
  },
  {
   "cell_type": "code",
   "execution_count": null,
   "metadata": {
    "colab": {
     "base_uri": "https://localhost:8080/"
    },
    "id": "_ZCzsuLuOeJx",
    "outputId": "cfe510a9-a9e4-463e-9420-a610a79cbfe4"
   },
   "outputs": [],
   "source": [
    "#Reading the .csv file of the phone data into a dataframe\n",
    "\n",
    "df_phonedata = pd.read_csv('/content/drive/My Drive/sentiment_analysis/Cell_Phones_and_Accessories_5.csv')"
   ]
  },
  {
   "cell_type": "code",
   "execution_count": null,
   "metadata": {
    "colab": {
     "base_uri": "https://localhost:8080/",
     "height": 598
    },
    "id": "7MtZtNRSnXla",
    "outputId": "6846f687-365b-4d17-a955-8243462ad97f"
   },
   "outputs": [],
   "source": [
    "df_phonedata.head(5)"
   ]
  },
  {
   "cell_type": "code",
   "execution_count": null,
   "metadata": {},
   "outputs": [],
   "source": []
  },
  {
   "cell_type": "markdown",
   "metadata": {
    "id": "-RUKzZgE5cv1"
   },
   "source": [
    "# Data pre-processing\n",
    "\n"
   ]
  },
  {
   "cell_type": "code",
   "execution_count": null,
   "metadata": {
    "id": "8jHXp1OyI9wq"
   },
   "outputs": [],
   "source": [
    "# Converting unix review time to date-time format\n",
    "\n",
    "#Transforming unixReview time to date time format\n",
    "from datetime import datetime, timedelta\n",
    "df_phonedata['Date&Time'] = df_phonedata['unixReviewTime'].apply(lambda d: (datetime.fromtimestamp(d) - timedelta(hours=2)).strftime('%Y-%m-%d'))\n"
   ]
  },
  {
   "cell_type": "code",
   "execution_count": null,
   "metadata": {},
   "outputs": [],
   "source": []
  },
  {
   "cell_type": "markdown",
   "metadata": {},
   "source": [
    "# EDA"
   ]
  },
  {
   "cell_type": "code",
   "execution_count": null,
   "metadata": {},
   "outputs": [],
   "source": []
  },
  {
   "cell_type": "markdown",
   "metadata": {},
   "source": [
    "# Text Analytics"
   ]
  },
  {
   "cell_type": "code",
   "execution_count": null,
   "metadata": {},
   "outputs": [],
   "source": [
    "# Reading stop words from a text file in to a list\n",
    "stop_words = [line.rstrip('\\n') for line in open('/content/drive/My Drive/sentiment_analysis/stop_words_long.txt')]"
   ]
  },
  {
   "cell_type": "code",
   "execution_count": null,
   "metadata": {},
   "outputs": [],
   "source": [
    "\n"
   ]
  }
 ],
 "metadata": {
  "colab": {
   "collapsed_sections": [],
   "name": "Reading the data.ipynb",
   "provenance": []
  },
  "kernelspec": {
   "display_name": "Python 3",
   "language": "python",
   "name": "python3"
  },
  "language_info": {
   "codemirror_mode": {
    "name": "ipython",
    "version": 3
   },
   "file_extension": ".py",
   "mimetype": "text/x-python",
   "name": "python",
   "nbconvert_exporter": "python",
   "pygments_lexer": "ipython3",
   "version": "3.7.4"
  }
 },
 "nbformat": 4,
 "nbformat_minor": 1
}
